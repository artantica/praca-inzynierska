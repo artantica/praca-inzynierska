{
  "nbformat": 4,
  "nbformat_minor": 0,
  "metadata": {
    "colab": {
      "name": "Untitled1.ipynb",
      "provenance": []
    },
    "kernelspec": {
      "name": "python3",
      "display_name": "Python 3"
    }
  },
  "cells": [
    {
      "cell_type": "code",
      "metadata": {
        "id": "bVzlByOJFBaq",
        "outputId": "f330842b-f605-4f1d-98ec-ca3a00e582f9",
        "colab": {
          "base_uri": "https://localhost:8080/"
        }
      },
      "source": [
        "!git clone https://github.com/artantica/praca-inzynierska.git"
      ],
      "execution_count": 14,
      "outputs": [
        {
          "output_type": "stream",
          "text": [
            "Cloning into 'g3'...\n",
            "fatal: unable to access 'https://artantica:g3/': Port number ended with 'g'\n",
            "/bin/bash: Ifw3*SqS?GY@github.com/artantica/praca-inzynierska.git: No such file or directory\n"
          ],
          "name": "stdout"
        }
      ]
    },
    {
      "cell_type": "code",
      "metadata": {
        "id": "1vQN1XVg5WJ5"
      },
      "source": [
        "import os\n",
        "import sys\n",
        "import argparse\n",
        "import glob\n",
        "\n",
        "import cv2\n",
        "import numpy\n",
        "from tqdm import tqdm"
      ],
      "execution_count": 10,
      "outputs": []
    },
    {
      "cell_type": "code",
      "metadata": {
        "id": "s8SnW8OB5tdi"
      },
      "source": [
        "from utils import get_image_paths, load_images, stack_images\n",
        "from training_data import get_training_data\n",
        "\n",
        "from model import autoencoder_A\n",
        "from model import autoencoder_B\n",
        "from model import encoder, decoder_A, decoder_B"
      ],
      "execution_count": null,
      "outputs": []
    },
    {
      "cell_type": "code",
      "metadata": {
        "id": "YlDf-4Wp5uVK"
      },
      "source": [
        "# check out directory directory and create if necessary\n",
        "if not os.path.exists(\"./models/\"):\n",
        "    os.makedirs(\"./models/\")"
      ],
      "execution_count": 11,
      "outputs": []
    },
    {
      "cell_type": "code",
      "metadata": {
        "id": "6OtaKpxP5_09"
      },
      "source": [
        "%ls"
      ],
      "execution_count": null,
      "outputs": []
    },
    {
      "cell_type": "code",
      "metadata": {
        "id": "Rmwut60d6Jjy",
        "outputId": "57b2634d-1ba6-4f5c-dea5-977b598699c6",
        "colab": {
          "base_uri": "https://localhost:8080/"
        }
      },
      "source": [
        "%cd 'Face swap'"
      ],
      "execution_count": 12,
      "outputs": [
        {
          "output_type": "stream",
          "text": [
            "[Errno 2] No such file or directory: 'Face swap'\n",
            "/content/drive/My Drive/Face swap\n"
          ],
          "name": "stdout"
        }
      ]
    }
  ]
}